{
 "cells": [
  {
   "cell_type": "markdown",
   "metadata": {},
   "source": [
    "# Diferencia de cuadrados"
   ]
  },
  {
   "cell_type": "markdown",
   "metadata": {},
   "source": [
    "Diferencia entre el cuadrado de la suma y la suma de cuadrados de los N primeros números naturales.\n",
    "\n",
    "$$\n",
    "diff = \\left(\\sum_{n=1}^{N}n\\right)^2 - \\sum_{n=1}^{N}n^2\n",
    "\\\\\n",
    "diff = (1 + 2 + ... + N)^2 - (1^2 + 2^2 + ... + N^2)\n",
    "$$ \n"
   ]
  },
  {
   "cell_type": "markdown",
   "metadata": {},
   "source": [
    "## Números y operaciones aritméticas"
   ]
  },
  {
   "cell_type": "markdown",
   "metadata": {
    "collapsed": true
   },
   "source": [
    "El intérprete de Python se puede usar como una calculadora ;)"
   ]
  },
  {
   "cell_type": "code",
   "execution_count": null,
   "metadata": {},
   "outputs": [],
   "source": [
    "(1 + 2 + 3 + 4)**2"
   ]
  },
  {
   "cell_type": "code",
   "execution_count": null,
   "metadata": {},
   "outputs": [],
   "source": [
    "square_of_sum = (1 + 2 + 3 + 4)**2"
   ]
  },
  {
   "cell_type": "code",
   "execution_count": null,
   "metadata": {},
   "outputs": [],
   "source": [
    "square_of_sum"
   ]
  },
  {
   "cell_type": "code",
   "execution_count": null,
   "metadata": {},
   "outputs": [],
   "source": [
    "sum_of_squares = 1**2 + 2**2 + 3**2 + 4**2\n",
    "sum_of_squares"
   ]
  },
  {
   "cell_type": "code",
   "execution_count": null,
   "metadata": {},
   "outputs": [],
   "source": [
    "difference = square_of_sum - sum_of_squares\n",
    "difference"
   ]
  },
  {
   "cell_type": "markdown",
   "metadata": {},
   "source": [
    "## Definir funciones"
   ]
  },
  {
   "cell_type": "raw",
   "metadata": {},
   "source": [
    "def nombrefuncion(parametro1, parametro2 ...):\n",
    "    cuerpo de la funcion\n",
    "    return resultado"
   ]
  },
  {
   "cell_type": "code",
   "execution_count": null,
   "metadata": {
    "collapsed": true
   },
   "outputs": [],
   "source": [
    "def sum_of_squares():\n",
    "    return (1**2 + 2**2 + 3**2 + 4**2)\n",
    "\n",
    "\n",
    "def square_of_sum():\n",
    "    return (1 + 2 + 3 + 4)**2\n",
    "\n",
    "\n",
    "def difference():\n",
    "    return (square_of_sum() - sum_of_squares())"
   ]
  },
  {
   "cell_type": "code",
   "execution_count": null,
   "metadata": {},
   "outputs": [],
   "source": [
    "sum_of_squares()"
   ]
  },
  {
   "cell_type": "code",
   "execution_count": null,
   "metadata": {
    "scrolled": true
   },
   "outputs": [],
   "source": [
    "difference()"
   ]
  },
  {
   "cell_type": "markdown",
   "metadata": {},
   "source": [
    "## Bucle for"
   ]
  },
  {
   "cell_type": "markdown",
   "metadata": {},
   "source": [
    "Itera sobre los items de cualquier secuencia"
   ]
  },
  {
   "cell_type": "raw",
   "metadata": {},
   "source": [
    "for item in secuencia:\n",
    "    cuerpo"
   ]
  },
  {
   "cell_type": "code",
   "execution_count": null,
   "metadata": {},
   "outputs": [],
   "source": [
    "for item in 'Python':\n",
    "    print(item)"
   ]
  },
  {
   "cell_type": "markdown",
   "metadata": {},
   "source": [
    "## Secuencia de números -> Range"
   ]
  },
  {
   "cell_type": "markdown",
   "metadata": {},
   "source": [
    "Función integrada(built-in) que devuelve una secuencia de números "
   ]
  },
  {
   "cell_type": "raw",
   "metadata": {},
   "source": [
    " Índices en Python\n",
    " +---+---+---+---+---+---+---+\n",
    " | 0 | 1 | 2 | 3 | 4 | 5 | 6 |\n",
    " +---+---+---+---+---+---+---+\n",
    " 0   1   2   3   4   5   6   7"
   ]
  },
  {
   "cell_type": "code",
   "execution_count": null,
   "metadata": {},
   "outputs": [],
   "source": [
    "# Para nuestro caso queremos los primeros N desde 1\n",
    "# N = 4 números naturales del ejemplo\n",
    "for item in range(1,5):\n",
    "    print(item)"
   ]
  },
  {
   "cell_type": "code",
   "execution_count": null,
   "metadata": {},
   "outputs": [],
   "source": [
    "# Cuadrado de la suma ((1 + 2 + 3 + 4)**2 = 100)\n",
    "total_sum = 0\n",
    "for i in range(1, 5):\n",
    "    total_sum = total_sum + i\n",
    "    \n",
    "    \n",
    "total_sum"
   ]
  },
  {
   "cell_type": "code",
   "execution_count": null,
   "metadata": {},
   "outputs": [],
   "source": [
    "def square_of_sum(n):\n",
    "    total_sum = 0\n",
    "    for i in range(1, (n+1)):\n",
    "        total_sum = total_sum + i\n",
    "    return (total_sum ** 2)\n",
    "\n",
    "\n",
    "square_of_sum(3)"
   ]
  },
  {
   "cell_type": "code",
   "execution_count": null,
   "metadata": {},
   "outputs": [],
   "source": [
    "# Suma de cuadrados ((1**2 + 2**2 + 3**2 + 4**2) = 30)\n",
    "def sum_of_squares(n):\n",
    "    total = 0\n",
    "    for i in range(1,(n+1)):\n",
    "        total = total + (i ** 2)\n",
    "    return total\n",
    "\n",
    "\n",
    "sum_of_squares(4)"
   ]
  },
  {
   "cell_type": "markdown",
   "metadata": {},
   "source": [
    "## Sumatorio de secuencia -> Sum"
   ]
  },
  {
   "cell_type": "markdown",
   "metadata": {},
   "source": [
    "Función integrada que suma los elementos de una secuencia de izquierda a derecha y devuelve el total. "
   ]
  },
  {
   "cell_type": "code",
   "execution_count": null,
   "metadata": {},
   "outputs": [],
   "source": [
    "# Cuadrado de la suma ((1 + 2 + 3 + 4)**2 = 100)\n",
    "sum(range(1,5))"
   ]
  },
  {
   "cell_type": "code",
   "execution_count": null,
   "metadata": {},
   "outputs": [],
   "source": [
    "def square_of_sum(n):\n",
    "    return sum(range(1,(n+1)))**2\n",
    "\n",
    "\n",
    "square_of_sum(4)"
   ]
  },
  {
   "cell_type": "markdown",
   "metadata": {},
   "source": [
    "## Lista"
   ]
  },
  {
   "cell_type": "markdown",
   "metadata": {},
   "source": [
    "Estructura de datos"
   ]
  },
  {
   "cell_type": "code",
   "execution_count": null,
   "metadata": {},
   "outputs": [],
   "source": [
    "lista = [3, 6, 1]\n",
    "lista"
   ]
  },
  {
   "cell_type": "code",
   "execution_count": null,
   "metadata": {},
   "outputs": [],
   "source": [
    "lista.append(2)\n",
    "lista"
   ]
  },
  {
   "cell_type": "code",
   "execution_count": null,
   "metadata": {
    "collapsed": true
   },
   "outputs": [],
   "source": [
    "# Suma de cuadrados ((1**2 + 2**2 + 3**2 + 4**2) = 30)"
   ]
  },
  {
   "cell_type": "code",
   "execution_count": null,
   "metadata": {},
   "outputs": [],
   "source": [
    "squares = []\n",
    "for i in range(1,5):\n",
    "    squares.append(i ** 2)\n",
    "\n",
    "squares"
   ]
  },
  {
   "cell_type": "code",
   "execution_count": null,
   "metadata": {},
   "outputs": [],
   "source": [
    "def sum_of_squares(n):\n",
    "    squares = []\n",
    "    for i in range(1,n+1):\n",
    "        squares.append(i ** 2)\n",
    "    return sum(squares)\n",
    "\n",
    "sum_of_squares(4)"
   ]
  },
  {
   "cell_type": "markdown",
   "metadata": {},
   "source": [
    "## Listas de comprensión"
   ]
  },
  {
   "cell_type": "markdown",
   "metadata": {},
   "source": [
    "Para hacer una nueva lista donde cada elemento es el resultado de una operación sobre otra lista."
   ]
  },
  {
   "cell_type": "code",
   "execution_count": null,
   "metadata": {},
   "outputs": [],
   "source": [
    "squares = [i**2 for i in range(1,5)]\n",
    "\n",
    "\n",
    "squares"
   ]
  },
  {
   "cell_type": "code",
   "execution_count": null,
   "metadata": {},
   "outputs": [],
   "source": [
    "# Suma de cuadrados ((1**2 + 2**2 + 3**2 + 4**2) = 30)\n",
    "def sum_of_squares(n):\n",
    "    return sum([i**2 for i in range(1,(n+1))])\n",
    "\n",
    "\n",
    "sum_of_squares(4)"
   ]
  },
  {
   "cell_type": "markdown",
   "metadata": {},
   "source": [
    "## Resultado final"
   ]
  },
  {
   "cell_type": "code",
   "execution_count": null,
   "metadata": {},
   "outputs": [],
   "source": [
    "# (1 + 2 + ... + N)^2\n",
    "def square_of_sum(n):\n",
    "    return sum(range(1, (n + 1))) ** 2\n",
    "\n",
    "# (1^2 + 2^2 + ... + N^2)\n",
    "def sum_of_squares(n):\n",
    "    return sum([i ** 2 for i in range(1, (n + 1))])\n",
    "\n",
    "\n",
    "def difference(n):\n",
    "    return (square_of_sum(n) - sum_of_squares(n))\n"
   ]
  }
 ],
 "metadata": {
  "kernelspec": {
   "display_name": "Python 3",
   "language": "python",
   "name": "python3"
  },
  "language_info": {
   "codemirror_mode": {
    "name": "ipython",
    "version": 3
   },
   "file_extension": ".py",
   "mimetype": "text/x-python",
   "name": "python",
   "nbconvert_exporter": "python",
   "pygments_lexer": "ipython3",
   "version": "3.6.1"
  }
 },
 "nbformat": 4,
 "nbformat_minor": 2
}
