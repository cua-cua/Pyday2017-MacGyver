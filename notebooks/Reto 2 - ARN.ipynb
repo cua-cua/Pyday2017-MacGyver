{
 "cells": [
  {
   "cell_type": "code",
   "execution_count": null,
   "metadata": {
    "collapsed": true
   },
   "outputs": [],
   "source": [
    "from IPython.display import Image\n",
    "\n",
    "\n",
    "Image(filename='figures/adn-arn.png') "
   ]
  },
  {
   "cell_type": "markdown",
   "metadata": {},
   "source": [
    "** Para transcribir una secuencia de ADN a una de ARN se reemplaza cada nucleótido por su complemento. Escribir un programa que dada una cadena de ADN, devuelva su complemento ARN**"
   ]
  },
  {
   "cell_type": "markdown",
   "metadata": {},
   "source": [
    "Núcleo (ADN) ---> (encima ARN polimerasa) ---> ARN complementario ---> citoplasma (generación de proteínas)"
   ]
  },
  {
   "cell_type": "markdown",
   "metadata": {},
   "source": [
    "| ADN       | ARN      |\n",
    "|:---------:|:--------:|\n",
    "| Guanina   | Citosina | \n",
    "| Citosina  | Guanina  | \n",
    "| Timina    | Adenina  |\n",
    "| Adenina   | Uracilo  |\n"
   ]
  },
  {
   "cell_type": "code",
   "execution_count": null,
   "metadata": {
    "collapsed": true
   },
   "outputs": [],
   "source": [
    "dna_sample = 'ACTGTCA'\n",
    "rna_complement = 'UGACAGU'"
   ]
  },
  {
   "cell_type": "markdown",
   "metadata": {},
   "source": [
    "## Listas"
   ]
  },
  {
   "cell_type": "code",
   "execution_count": null,
   "metadata": {
    "collapsed": true
   },
   "outputs": [],
   "source": [
    "def dna_to_rna(adn):\n",
    "    result = []\n",
    "    for nucleotide in adn:\n",
    "        if nucleotide == 'G':\n",
    "            result.append('C')\n",
    "        elif nucleotide == 'C':\n",
    "            result.append('G')\n",
    "        elif nucleotide == 'T':\n",
    "            result.append('A')\n",
    "        elif nucleotide == 'A':\n",
    "            result.append('U')\n",
    "    return result\n",
    "\n",
    "\n",
    "dna_to_rna(dna_sample)"
   ]
  },
  {
   "cell_type": "markdown",
   "metadata": {},
   "source": [
    "## Diccionarios"
   ]
  }
 ],
 "metadata": {
  "kernelspec": {
   "display_name": "Python 3",
   "language": "python",
   "name": "python3"
  },
  "language_info": {
   "codemirror_mode": {
    "name": "ipython",
    "version": 3
   },
   "file_extension": ".py",
   "mimetype": "text/x-python",
   "name": "python",
   "nbconvert_exporter": "python",
   "pygments_lexer": "ipython3",
   "version": "3.6.0"
  }
 },
 "nbformat": 4,
 "nbformat_minor": 2
}
