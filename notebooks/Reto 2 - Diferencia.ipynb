{
 "cells": [
  {
   "cell_type": "markdown",
   "metadata": {},
   "source": [
    "# Diferencia de cuadrados"
   ]
  },
  {
   "cell_type": "markdown",
   "metadata": {},
   "source": [
    "Diferencia entre el cuadrado de la suma y la suma de cuadrados de los N primeros números naturales.\n",
    "\n",
    "$$\n",
    "diff = \\left(\\sum_{n=1}^{N}n\\right)^2 - \\sum_{n=1}^{N}n^2\n",
    "\\\\\n",
    "diff = (1 + 2 + ... + N)^2 - (1^2 + 2^2 + ... + N^2)\n",
    "$$ \n"
   ]
  },
  {
   "cell_type": "markdown",
   "metadata": {},
   "source": [
    "## Números y operaciones aritméticas"
   ]
  },
  {
   "cell_type": "markdown",
   "metadata": {
    "collapsed": true
   },
   "source": [
    "- El intérprete de Python se puede usar como una calculadora ;)\n",
    "- NO hay declaraciones de tipos "
   ]
  },
  {
   "cell_type": "code",
   "execution_count": null,
   "metadata": {},
   "outputs": [],
   "source": [
    "1 + 2 + 3"
   ]
  },
  {
   "cell_type": "code",
   "execution_count": null,
   "metadata": {
    "scrolled": true
   },
   "outputs": [],
   "source": [
    "type(1.0)"
   ]
  },
  {
   "cell_type": "code",
   "execution_count": null,
   "metadata": {
    "scrolled": true
   },
   "outputs": [],
   "source": [
    "type(1)"
   ]
  },
  {
   "cell_type": "code",
   "execution_count": null,
   "metadata": {
    "collapsed": true
   },
   "outputs": [],
   "source": [
    "sum_of_squares = 1**2 + 2**2 + 3**2 + 4**2\n",
    "sum_of_squares"
   ]
  },
  {
   "cell_type": "code",
   "execution_count": null,
   "metadata": {
    "collapsed": true
   },
   "outputs": [],
   "source": [
    "square_of_sum = (1 + 2 + 3 + 4)**2\n",
    "square_of_sum"
   ]
  },
  {
   "cell_type": "code",
   "execution_count": null,
   "metadata": {
    "collapsed": true
   },
   "outputs": [],
   "source": [
    "difference = square_of_sum - sum_of_squares\n",
    "difference"
   ]
  },
  {
   "cell_type": "markdown",
   "metadata": {},
   "source": [
    "## Definir funciones"
   ]
  },
  {
   "cell_type": "raw",
   "metadata": {},
   "source": [
    "def nombrefuncion(input1, ):\n",
    "    cuerpo de la funcion\n",
    "    return(output1, )"
   ]
  },
  {
   "cell_type": "code",
   "execution_count": null,
   "metadata": {
    "collapsed": true
   },
   "outputs": [],
   "source": [
    "def sum_of_squares():\n",
    "    return (1**2 + 2**2 + 3**2 + 4**2)\n",
    "def square_of_sum():\n",
    "    return (1 + 2 + 3 + 4)**2\n",
    "def difference():\n",
    "    return (square_of_sum() - sum_of_squares())"
   ]
  },
  {
   "cell_type": "code",
   "execution_count": null,
   "metadata": {
    "collapsed": true,
    "scrolled": true
   },
   "outputs": [],
   "source": [
    "difference()"
   ]
  },
  {
   "cell_type": "markdown",
   "metadata": {},
   "source": [
    "## Secuencia de números -> range"
   ]
  },
  {
   "cell_type": "markdown",
   "metadata": {},
   "source": [
    "- **range()** : función integrada(built-in), secuencia de números immutable e iterable\n",
    "- range(start, stop[,step])"
   ]
  },
  {
   "cell_type": "code",
   "execution_count": 1,
   "metadata": {},
   "outputs": [
    {
     "data": {
      "text/plain": [
       "range(0, 3)"
      ]
     },
     "execution_count": 1,
     "metadata": {},
     "output_type": "execute_result"
    }
   ],
   "source": [
    "range(3)"
   ]
  },
  {
   "cell_type": "code",
   "execution_count": 3,
   "metadata": {
    "scrolled": true
   },
   "outputs": [
    {
     "data": {
      "text/plain": [
       "[0, 1, 2]"
      ]
     },
     "execution_count": 3,
     "metadata": {},
     "output_type": "execute_result"
    }
   ],
   "source": [
    "# por qué hace falta list de range para verlo?->Peque\n",
    "list(range(3))"
   ]
  },
  {
   "cell_type": "code",
   "execution_count": 2,
   "metadata": {},
   "outputs": [
    {
     "data": {
      "text/plain": [
       "[1, 2, 3, 4]"
      ]
     },
     "execution_count": 2,
     "metadata": {},
     "output_type": "execute_result"
    }
   ],
   "source": [
    "# Para nuestro caso queremos los primeros\n",
    "# n = 4 números naturales del ejemplo\n",
    "list(range(1,5))"
   ]
  },
  {
   "cell_type": "markdown",
   "metadata": {},
   "source": [
    "## Bucle for"
   ]
  },
  {
   "cell_type": "markdown",
   "metadata": {},
   "source": [
    "- **for**: itera sobre los items de cualquier secuencia (como range()!)"
   ]
  },
  {
   "cell_type": "raw",
   "metadata": {},
   "source": [
    "for item in secuencia:\n",
    "    cuerpo"
   ]
  },
  {
   "cell_type": "code",
   "execution_count": 4,
   "metadata": {},
   "outputs": [
    {
     "name": "stdout",
     "output_type": "stream",
     "text": [
      "cosa1\n",
      "cosa2\n",
      "cosa3\n"
     ]
    }
   ],
   "source": [
    "for item in ['cosa1', 'cosa2', 'cosa3']:\n",
    "    print(item)"
   ]
  },
  {
   "cell_type": "code",
   "execution_count": 5,
   "metadata": {},
   "outputs": [
    {
     "name": "stdout",
     "output_type": "stream",
     "text": [
      "P\n",
      "y\n",
      "t\n",
      "h\n",
      "o\n",
      "n\n"
     ]
    }
   ],
   "source": [
    "for item in 'Python':\n",
    "    print(item)"
   ]
  },
  {
   "cell_type": "code",
   "execution_count": 6,
   "metadata": {},
   "outputs": [
    {
     "name": "stdout",
     "output_type": "stream",
     "text": [
      "0\n",
      "1\n",
      "2\n",
      "3\n"
     ]
    }
   ],
   "source": [
    "for item in range(4):\n",
    "    print(item)"
   ]
  },
  {
   "cell_type": "code",
   "execution_count": null,
   "metadata": {
    "collapsed": true
   },
   "outputs": [],
   "source": [
    "# Cuadrado de la suma ((1 + 2 + 3 + 4)**2 = 100)\n",
    "total_sum = 0\n",
    "for i in range(1, 5):\n",
    "    total_sum = total_sum + i\n",
    "total_sum"
   ]
  },
  {
   "cell_type": "code",
   "execution_count": null,
   "metadata": {
    "collapsed": true
   },
   "outputs": [],
   "source": [
    "def square_of_sum(n):\n",
    "    total_sum = 0\n",
    "    for i in range(1, (n+1)):\n",
    "        total_sum = total_sum + i\n",
    "    return (total_sum ** 2)\n",
    "square_of_sum(4)"
   ]
  },
  {
   "cell_type": "code",
   "execution_count": null,
   "metadata": {
    "collapsed": true
   },
   "outputs": [],
   "source": [
    "# Suma de cuadrados ((1**2 + 2**2 + 3**2 + 4**2) = 30)\n",
    "def sum_of_squares(n):\n",
    "    total = 0\n",
    "    for i in range(1,(n+1)):\n",
    "        total = total + (i ** 2)\n",
    "    return total\n",
    "sum_of_squares(4)"
   ]
  },
  {
   "cell_type": "markdown",
   "metadata": {},
   "source": [
    "## Funciones predefinidas: Sum"
   ]
  },
  {
   "cell_type": "markdown",
   "metadata": {},
   "source": [
    "- **Sum()** : Suma los elementos de un iterable de izquierda a derecha y devuelve el total. \n",
    "- sum(iterable[,start])"
   ]
  },
  {
   "cell_type": "code",
   "execution_count": null,
   "metadata": {
    "collapsed": true
   },
   "outputs": [],
   "source": [
    "# Cuadrado de la suma ((1 + 2 + 3 + 4)**2 = 100)\n",
    "def square_of_sum(n):\n",
    "    return sum(range(1,(n+1)))**2\n",
    "square_of_sum(4)"
   ]
  },
  {
   "cell_type": "markdown",
   "metadata": {},
   "source": [
    "## Listas de comprensión"
   ]
  },
  {
   "cell_type": "markdown",
   "metadata": {},
   "source": [
    "Hacer una nueva lista donde cada elemento es el resultado de una operación sobre otra lista."
   ]
  },
  {
   "cell_type": "code",
   "execution_count": null,
   "metadata": {
    "collapsed": true
   },
   "outputs": [],
   "source": [
    "squares = [i**2 for i in range(1,5)]\n",
    "squares"
   ]
  },
  {
   "cell_type": "code",
   "execution_count": null,
   "metadata": {
    "collapsed": true
   },
   "outputs": [],
   "source": [
    "# Suma de cuadrados ((1**2 + 2**2 + 3**2 + 4**2) = 30)\n",
    "def sum_of_squares(n):\n",
    "    return sum([i**2 for i in range(1,(n+1))])\n",
    "sum_of_squares(4)"
   ]
  },
  {
   "cell_type": "markdown",
   "metadata": {},
   "source": [
    "## Generadores"
   ]
  },
  {
   "cell_type": "markdown",
   "metadata": {},
   "source": [
    "La diferencia entre:\n",
    "sum(i**2 for i in range(1,(n+1)))\n",
    "sum([i**2 for i in range(1,(n+1))])\n",
    "Peque??"
   ]
  },
  {
   "cell_type": "code",
   "execution_count": null,
   "metadata": {
    "collapsed": true
   },
   "outputs": [],
   "source": [
    "squares_2 = (i**2 for i in range(1,5))\n",
    "squares_2"
   ]
  },
  {
   "cell_type": "code",
   "execution_count": null,
   "metadata": {
    "collapsed": true
   },
   "outputs": [],
   "source": [
    "# Suma de cuadrados ((1**2 + 2**2 + 3**2 + 4**2) = 30)\n",
    "def sum_of_squares(n):\n",
    "    return sum(i**2 for i in range(1,(n+1)))\n",
    "sum_of_squares(4)"
   ]
  }
 ],
 "metadata": {
  "kernelspec": {
   "display_name": "Python 3",
   "language": "python",
   "name": "python3"
  },
  "language_info": {
   "codemirror_mode": {
    "name": "ipython",
    "version": 3
   },
   "file_extension": ".py",
   "mimetype": "text/x-python",
   "name": "python",
   "nbconvert_exporter": "python",
   "pygments_lexer": "ipython3",
   "version": "3.6.1"
  }
 },
 "nbformat": 4,
 "nbformat_minor": 2
}
