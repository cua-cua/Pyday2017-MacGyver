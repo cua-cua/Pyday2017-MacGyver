{
 "cells": [
  {
   "cell_type": "markdown",
   "metadata": {},
   "source": [
    "** Para transcribir una secuencia de ADN a una de ARN se reemplaza cada nucleótido por su complemento. Escribir un programa que dada una cadena de ADN, devuelva su complemento ARN**"
   ]
  },
  {
   "cell_type": "markdown",
   "metadata": {},
   "source": [
    "| ADN       | ARN      |\n",
    "| ----------|:--------:|\n",
    "| Guanina   | Citosina | \n",
    "| Citosina  | Guanina  | \n",
    "| Timina    | Adenina  |\n",
    "| Adenina   | Uracilo  |\n"
   ]
  },
  {
   "cell_type": "markdown",
   "metadata": {},
   "source": [
    "## Listas"
   ]
  },
  {
   "cell_type": "markdown",
   "metadata": {},
   "source": [
    "- Estructura de datos\n",
    "- lista = [valor1, valor2, valor3]\n",
    "- Mutables!\n",
    "- Pilas: append, pop\n",
    "- cómo aplicar un método (nombre.metodo?? (Peque))\n",
    "- String to lista: list('string')"
   ]
  },
  {
   "cell_type": "code",
   "execution_count": null,
   "metadata": {
    "collapsed": true
   },
   "outputs": [],
   "source": [
    "help(list)"
   ]
  },
  {
   "cell_type": "markdown",
   "metadata": {},
   "source": [
    "## Diccionarios"
   ]
  },
  {
   "cell_type": "markdown",
   "metadata": {},
   "source": [
    "- Estructura de datos\n",
    "- Indexados por claves inmmutables (las lista por número)\n",
    "- diccionario = {'clave1': dato1, 'clave2': dato2}"
   ]
  }
 ],
 "metadata": {
  "kernelspec": {
   "display_name": "Python 3",
   "language": "python",
   "name": "python3"
  },
  "language_info": {
   "codemirror_mode": {
    "name": "ipython",
    "version": 3
   },
   "file_extension": ".py",
   "mimetype": "text/x-python",
   "name": "python",
   "nbconvert_exporter": "python",
   "pygments_lexer": "ipython3",
   "version": "3.6.1"
  }
 },
 "nbformat": 4,
 "nbformat_minor": 2
}
